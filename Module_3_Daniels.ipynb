{
  "nbformat": 4,
  "nbformat_minor": 0,
  "metadata": {
    "colab": {
      "provenance": [],
      "collapsed_sections": [
        "9L5zgR1UjfxQ",
        "VXJRHvmjKEg0"
      ],
      "authorship_tag": "ABX9TyNyv6o0hOA/NfvNu8v6or3/",
      "include_colab_link": true
    },
    "kernelspec": {
      "name": "python3",
      "display_name": "Python 3"
    },
    "language_info": {
      "name": "python"
    }
  },
  "cells": [
    {
      "cell_type": "markdown",
      "metadata": {
        "id": "view-in-github",
        "colab_type": "text"
      },
      "source": [
        "<a href=\"https://colab.research.google.com/github/a-stoller/stc510/blob/main/Module_3_Daniels.ipynb\" target=\"_parent\"><img src=\"https://colab.research.google.com/assets/colab-badge.svg\" alt=\"Open In Colab\"/></a>"
      ]
    },
    {
      "cell_type": "markdown",
      "source": [
        "# Module3\n",
        "# Wrangling of Phoenix Crime Data\n"
      ],
      "metadata": {
        "id": "9L5zgR1UjfxQ"
      }
    },
    {
      "cell_type": "code",
      "execution_count": 1,
      "metadata": {
        "id": "V0Kceqb1SvOM"
      },
      "outputs": [],
      "source": [
        "import pandas as pd\n",
        "import pathlib\n",
        "import numpy as np\n",
        "import datetime as dt"
      ]
    },
    {
      "cell_type": "code",
      "source": [
        "#load in CSV file containing crime data. Source: https://www.phoenixopendata.com/dataset/crime-data/resource/0ce3411a-2fc6-4302-a33f-167f68608a20?view_id=9dd33103-a106-42f9-8398-390b62a756bb\n",
        "myCsvPath = pathlib.Path(r'/content/0ce3411a-2fc6-4302-a33f-167f68608a20.csv')\n",
        "df = pd.read_csv(myCsvPath, engine=\"python\")\n"
      ],
      "metadata": {
        "id": "Q6J-ByZKU-XJ"
      },
      "execution_count": 31,
      "outputs": []
    },
    {
      "cell_type": "markdown",
      "source": [
        "# Create new columns to work with the date and time of the incident"
      ],
      "metadata": {
        "id": "VXJRHvmjKEg0"
      }
    },
    {
      "cell_type": "code",
      "source": [
        "# Convert to datetime\n",
        "df['OCCURRED ON'] = pd.to_datetime(df['OCCURRED ON'], format='%m/%d/%Y %H:%M')\n",
        "\n",
        "# New column for Year\n",
        "df[\"incidentYear\"] = df[\"OCCURRED ON\"].dt.year\n",
        "\n",
        "# New column for day of week \n",
        "# 0 is Monday, 6 is Sunday\n",
        "df[\"day_of_week\"] = df[\"OCCURRED ON\"].dt.weekday\n",
        "\n",
        "#New column for time of day\n",
        "conditions = [\n",
        "    (df['OCCURRED ON'].dt.hour < 5),\n",
        "    (df[\"OCCURRED ON\"].dt.hour < 12),\n",
        "    (df[\"OCCURRED ON\"].dt.hour < 17),\n",
        "    (df[\"OCCURRED ON\"].dt.hour < 20),\n",
        "    (df[\"OCCURRED ON\"].dt.hour <= 23)]\n",
        "choices = ['1', '2', '3', '4', '5']\n",
        "df['timeOfDay'] = np.select(conditions, choices)\n",
        "\n",
        "#New column for Violent or Non-Violent\n",
        "conditions = [\n",
        "  (df['UCR CRIME CATEGORY'] == 'MURDER AND NON-NEGLIGENT MANSLAUGHTER') | (df['UCR CRIME CATEGORY'] =='RAPE') | (df['UCR CRIME CATEGORY'] =='ROBBERY') | (df['UCR CRIME CATEGORY'] =='AGGRAVATED ASSAULT'),\n",
        "  (df['UCR CRIME CATEGORY'] == 'ARSON') | (df['UCR CRIME CATEGORY'] == 'BURGLARY') | (df['UCR CRIME CATEGORY'] == 'DRUG OFFENSE') | (df['UCR CRIME CATEGORY'] =='LARCENY-THEFT') | (df['UCR CRIME CATEGORY'] =='MOTOR VEHICLE THEFT')\n",
        "    ]\n",
        "choices = ['Violent', 'Non-Violent']\n",
        "df['Violent or Non'] = np.select(conditions, choices)\n"
      ],
      "metadata": {
        "id": "KS6n_WhxiRTu"
      },
      "execution_count": 32,
      "outputs": []
    },
    {
      "cell_type": "markdown",
      "source": [
        "# Let's calcuate some calculations and build some tables! "
      ],
      "metadata": {
        "id": "ucbKxyfmU_Yk"
      }
    },
    {
      "cell_type": "code",
      "source": [
        "#Filter out 2023, since this year is not complete and is not 'apples to apples' with other years.\n",
        "dfFiltered = df[df['incidentYear'] != 2023]\n",
        "\n",
        "#Zip codes as strings, not numbers\n",
        "dfFiltered['ZIP'] = dfFiltered['ZIP'].astype(str)\n",
        "\n",
        "# Group by ZIP and incidentYear, and count the number of incidents\n",
        "dfFiltered.set_index(['ZIP','incidentYear'], inplace=True)\n",
        "dfGrouped = dfFiltered.groupby(['ZIP', 'incidentYear'])['INC NUMBER'].nunique().reset_index(name='Incidents')\n",
        "\n",
        "# create a pivot table by Zip code and Year\n",
        "dfPivot1 = pd.pivot_table(dfGrouped, values='Incidents', index=['ZIP'], columns=['incidentYear']).fillna(0)\n",
        "\n",
        "# Calculate columns for change in number of incidents since 2016, and % change since 2016\n",
        "dfPivot1['deltaSince2016'] = dfPivot1[2022] - dfPivot1[2016]\n",
        "dfPivot1['rateOfChangeSince2016'] = dfPivot1['deltaSince2016'] / dfPivot1[2016]\n",
        "\n",
        "# Format rate of change as Percent\n",
        "dfPivot1['rateOfChangeSince2016'] = dfPivot1['rateOfChangeSince2016'].map('{:.2f}%'.format)\n",
        "\n",
        "#Sort by DeltaSince2016 so the highest increase is at top\n",
        "dfPivot1.sort_values(by='deltaSince2016', ascending=False, inplace=True)\n",
        "\n",
        "\n",
        "print(\"These Zip Codes have the highest change in crime occurrences:\",\n",
        "dfPivot1.head(10)\n",
        ")"
      ],
      "metadata": {
        "colab": {
          "base_uri": "https://localhost:8080/"
        },
        "id": "A2qTFBmGVDCp",
        "outputId": "f6f63ff5-3c4c-4b1d-84d0-1a24c4290754"
      },
      "execution_count": 4,
      "outputs": [
        {
          "output_type": "stream",
          "name": "stdout",
          "text": [
            "These Zip Codes have the highest change in crime occurrences: incidentYear  2016  2017  2018  2019  2020  2021    2022  deltaSince2016  \\\n",
            "ZIP                                                                        \n",
            "85008.0        0.0   0.0   0.0   1.0   1.0  19.0  2286.0          2286.0   \n",
            "85051.0        0.0   0.0   0.0   0.0   1.0  10.0  2021.0          2021.0   \n",
            "85015.0        0.0   0.0   0.0   1.0   1.0   4.0  2007.0          2007.0   \n",
            "85041.0        2.0   0.0   1.0   1.0   0.0   9.0  1704.0          1702.0   \n",
            "85009.0        0.0   0.0   0.0   0.0   3.0  11.0  1644.0          1644.0   \n",
            "85043.0        0.0   0.0   0.0   3.0   3.0   9.0  1568.0          1568.0   \n",
            "85017.0        0.0   0.0   0.0   0.0   1.0   8.0  1566.0          1566.0   \n",
            "85035.0        1.0   0.0   0.0   0.0   0.0   6.0  1545.0          1544.0   \n",
            "85021.0        0.0   0.0   0.0   1.0   1.0   9.0  1515.0          1515.0   \n",
            "85022.0        1.0   0.0   0.0   0.0   2.0   3.0  1358.0          1357.0   \n",
            "\n",
            "incidentYear rateOfChangeSince2016  \n",
            "ZIP                                 \n",
            "85008.0                       inf%  \n",
            "85051.0                       inf%  \n",
            "85015.0                       inf%  \n",
            "85041.0                    851.00%  \n",
            "85009.0                       inf%  \n",
            "85043.0                       inf%  \n",
            "85017.0                       inf%  \n",
            "85035.0                   1544.00%  \n",
            "85021.0                       inf%  \n",
            "85022.0                   1357.00%  \n"
          ]
        },
        {
          "output_type": "stream",
          "name": "stderr",
          "text": [
            "<ipython-input-4-d195fd4fc72b>:5: SettingWithCopyWarning: \n",
            "A value is trying to be set on a copy of a slice from a DataFrame.\n",
            "Try using .loc[row_indexer,col_indexer] = value instead\n",
            "\n",
            "See the caveats in the documentation: https://pandas.pydata.org/pandas-docs/stable/user_guide/indexing.html#returning-a-view-versus-a-copy\n",
            "  dfFiltered['ZIP'] = dfFiltered['ZIP'].astype(str)\n"
          ]
        }
      ]
    },
    {
      "cell_type": "code",
      "source": [
        "#Pivot table : Crime type by Time of Day\n",
        "dfPivot2 = pd.pivot_table(df, values='INC NUMBER', columns=\"timeOfDay\",index = 'UCR CRIME CATEGORY',  aggfunc=len)\n",
        "dfPivot2.columns =['Early Morning (Midnight-5am)', 'Morning(5am-noon)', 'Afternoon(noon-5pm)', 'Evening(5pm-8pm)', 'Night(8pm-midnight)']"
      ],
      "metadata": {
        "id": "krWLyiJdPfIw"
      },
      "execution_count": 18,
      "outputs": []
    },
    {
      "cell_type": "code",
      "source": [
        "#Pivot table : Crime type by Day of Week\n",
        "dfPivot3 = pd.pivot_table(df, values='INC NUMBER', columns=\"day_of_week\",index = 'UCR CRIME CATEGORY',  aggfunc=len)\n",
        "dfPivot3.columns = ['Mon', 'Tue', 'Wed', 'Thu', 'Fri', 'Sat', 'Sun']\n"
      ],
      "metadata": {
        "id": "S7iXPtV3RTDd"
      },
      "execution_count": 6,
      "outputs": []
    },
    {
      "cell_type": "code",
      "source": [
        "#Pivot table : Crime type by Premise type \n",
        "dfPivot4 = pd.pivot_table(df, values='INC NUMBER', columns='UCR CRIME CATEGORY',index = \"PREMISE TYPE\",  aggfunc=len, fill_value=0)\n"
      ],
      "metadata": {
        "id": "SjkFYTPQU260"
      },
      "execution_count": 22,
      "outputs": []
    },
    {
      "cell_type": "code",
      "source": [
        "#Pivot table : Violent or Non violent by Premise Type\n",
        "dfPivot5 = pd.pivot_table(df, values='INC NUMBER', columns='Violent or Non',index = \"PREMISE TYPE\",  aggfunc=len, fill_value=0)\n",
        "#get Percent of vilent crimes for each location\n",
        "dfPivot5['Percent Violent'] = dfPivot5['Violent'] / (dfPivot5['Violent'] + dfPivot5['Non-Violent'])\n",
        "# Format rate of change as Percent\n",
        "dfPivot5['Percent Violent'] = dfPivot5['Percent Violent'].map('{:.2f}%'.format)"
      ],
      "metadata": {
        "id": "U_qjZ9MUWs1e"
      },
      "execution_count": 29,
      "outputs": []
    },
    {
      "cell_type": "markdown",
      "source": [
        "# Reporting\n",
        "Recommended: Convert the pivot table output to interactive tables for easy sorting"
      ],
      "metadata": {
        "id": "KZgRhGBwkL7M"
      }
    },
    {
      "cell_type": "markdown",
      "source": [
        "# How has crime volume changed over the years for different Zip Codes?\n",
        "\n",
        "Here are the 10 zip codes with the greatest increase in crime occurrence between 201 and 2022"
      ],
      "metadata": {
        "id": "IM8fMibpdG8w"
      }
    },
    {
      "cell_type": "code",
      "source": [
        "dfPivot1.head(10)"
      ],
      "metadata": {
        "colab": {
          "base_uri": "https://localhost:8080/",
          "height": 321
        },
        "id": "soOtriwbdOR6",
        "outputId": "58a6b875-e5b4-4e12-a84f-68d9a06abf29"
      },
      "execution_count": 9,
      "outputs": [
        {
          "output_type": "execute_result",
          "data": {
            "text/plain": [
              "incidentYear  2016  2017  2018  2019  2020  2021    2022  deltaSince2016  \\\n",
              "ZIP                                                                        \n",
              "85008.0        0.0   0.0   0.0   1.0   1.0  19.0  2286.0          2286.0   \n",
              "85051.0        0.0   0.0   0.0   0.0   1.0  10.0  2021.0          2021.0   \n",
              "85015.0        0.0   0.0   0.0   1.0   1.0   4.0  2007.0          2007.0   \n",
              "85041.0        2.0   0.0   1.0   1.0   0.0   9.0  1704.0          1702.0   \n",
              "85009.0        0.0   0.0   0.0   0.0   3.0  11.0  1644.0          1644.0   \n",
              "85043.0        0.0   0.0   0.0   3.0   3.0   9.0  1568.0          1568.0   \n",
              "85017.0        0.0   0.0   0.0   0.0   1.0   8.0  1566.0          1566.0   \n",
              "85035.0        1.0   0.0   0.0   0.0   0.0   6.0  1545.0          1544.0   \n",
              "85021.0        0.0   0.0   0.0   1.0   1.0   9.0  1515.0          1515.0   \n",
              "85022.0        1.0   0.0   0.0   0.0   2.0   3.0  1358.0          1357.0   \n",
              "\n",
              "incidentYear rateOfChangeSince2016  \n",
              "ZIP                                 \n",
              "85008.0                       inf%  \n",
              "85051.0                       inf%  \n",
              "85015.0                       inf%  \n",
              "85041.0                    851.00%  \n",
              "85009.0                       inf%  \n",
              "85043.0                       inf%  \n",
              "85017.0                       inf%  \n",
              "85035.0                   1544.00%  \n",
              "85021.0                       inf%  \n",
              "85022.0                   1357.00%  "
            ],
            "text/html": [
              "\n",
              "  <div id=\"df-f22d076a-66e1-42e1-80a6-289957abf9ad\">\n",
              "    <div class=\"colab-df-container\">\n",
              "      <div>\n",
              "<style scoped>\n",
              "    .dataframe tbody tr th:only-of-type {\n",
              "        vertical-align: middle;\n",
              "    }\n",
              "\n",
              "    .dataframe tbody tr th {\n",
              "        vertical-align: top;\n",
              "    }\n",
              "\n",
              "    .dataframe thead th {\n",
              "        text-align: right;\n",
              "    }\n",
              "</style>\n",
              "<table border=\"1\" class=\"dataframe\">\n",
              "  <thead>\n",
              "    <tr style=\"text-align: right;\">\n",
              "      <th>incidentYear</th>\n",
              "      <th>2016</th>\n",
              "      <th>2017</th>\n",
              "      <th>2018</th>\n",
              "      <th>2019</th>\n",
              "      <th>2020</th>\n",
              "      <th>2021</th>\n",
              "      <th>2022</th>\n",
              "      <th>deltaSince2016</th>\n",
              "      <th>rateOfChangeSince2016</th>\n",
              "    </tr>\n",
              "    <tr>\n",
              "      <th>ZIP</th>\n",
              "      <th></th>\n",
              "      <th></th>\n",
              "      <th></th>\n",
              "      <th></th>\n",
              "      <th></th>\n",
              "      <th></th>\n",
              "      <th></th>\n",
              "      <th></th>\n",
              "      <th></th>\n",
              "    </tr>\n",
              "  </thead>\n",
              "  <tbody>\n",
              "    <tr>\n",
              "      <th>85008.0</th>\n",
              "      <td>0.0</td>\n",
              "      <td>0.0</td>\n",
              "      <td>0.0</td>\n",
              "      <td>1.0</td>\n",
              "      <td>1.0</td>\n",
              "      <td>19.0</td>\n",
              "      <td>2286.0</td>\n",
              "      <td>2286.0</td>\n",
              "      <td>inf%</td>\n",
              "    </tr>\n",
              "    <tr>\n",
              "      <th>85051.0</th>\n",
              "      <td>0.0</td>\n",
              "      <td>0.0</td>\n",
              "      <td>0.0</td>\n",
              "      <td>0.0</td>\n",
              "      <td>1.0</td>\n",
              "      <td>10.0</td>\n",
              "      <td>2021.0</td>\n",
              "      <td>2021.0</td>\n",
              "      <td>inf%</td>\n",
              "    </tr>\n",
              "    <tr>\n",
              "      <th>85015.0</th>\n",
              "      <td>0.0</td>\n",
              "      <td>0.0</td>\n",
              "      <td>0.0</td>\n",
              "      <td>1.0</td>\n",
              "      <td>1.0</td>\n",
              "      <td>4.0</td>\n",
              "      <td>2007.0</td>\n",
              "      <td>2007.0</td>\n",
              "      <td>inf%</td>\n",
              "    </tr>\n",
              "    <tr>\n",
              "      <th>85041.0</th>\n",
              "      <td>2.0</td>\n",
              "      <td>0.0</td>\n",
              "      <td>1.0</td>\n",
              "      <td>1.0</td>\n",
              "      <td>0.0</td>\n",
              "      <td>9.0</td>\n",
              "      <td>1704.0</td>\n",
              "      <td>1702.0</td>\n",
              "      <td>851.00%</td>\n",
              "    </tr>\n",
              "    <tr>\n",
              "      <th>85009.0</th>\n",
              "      <td>0.0</td>\n",
              "      <td>0.0</td>\n",
              "      <td>0.0</td>\n",
              "      <td>0.0</td>\n",
              "      <td>3.0</td>\n",
              "      <td>11.0</td>\n",
              "      <td>1644.0</td>\n",
              "      <td>1644.0</td>\n",
              "      <td>inf%</td>\n",
              "    </tr>\n",
              "    <tr>\n",
              "      <th>85043.0</th>\n",
              "      <td>0.0</td>\n",
              "      <td>0.0</td>\n",
              "      <td>0.0</td>\n",
              "      <td>3.0</td>\n",
              "      <td>3.0</td>\n",
              "      <td>9.0</td>\n",
              "      <td>1568.0</td>\n",
              "      <td>1568.0</td>\n",
              "      <td>inf%</td>\n",
              "    </tr>\n",
              "    <tr>\n",
              "      <th>85017.0</th>\n",
              "      <td>0.0</td>\n",
              "      <td>0.0</td>\n",
              "      <td>0.0</td>\n",
              "      <td>0.0</td>\n",
              "      <td>1.0</td>\n",
              "      <td>8.0</td>\n",
              "      <td>1566.0</td>\n",
              "      <td>1566.0</td>\n",
              "      <td>inf%</td>\n",
              "    </tr>\n",
              "    <tr>\n",
              "      <th>85035.0</th>\n",
              "      <td>1.0</td>\n",
              "      <td>0.0</td>\n",
              "      <td>0.0</td>\n",
              "      <td>0.0</td>\n",
              "      <td>0.0</td>\n",
              "      <td>6.0</td>\n",
              "      <td>1545.0</td>\n",
              "      <td>1544.0</td>\n",
              "      <td>1544.00%</td>\n",
              "    </tr>\n",
              "    <tr>\n",
              "      <th>85021.0</th>\n",
              "      <td>0.0</td>\n",
              "      <td>0.0</td>\n",
              "      <td>0.0</td>\n",
              "      <td>1.0</td>\n",
              "      <td>1.0</td>\n",
              "      <td>9.0</td>\n",
              "      <td>1515.0</td>\n",
              "      <td>1515.0</td>\n",
              "      <td>inf%</td>\n",
              "    </tr>\n",
              "    <tr>\n",
              "      <th>85022.0</th>\n",
              "      <td>1.0</td>\n",
              "      <td>0.0</td>\n",
              "      <td>0.0</td>\n",
              "      <td>0.0</td>\n",
              "      <td>2.0</td>\n",
              "      <td>3.0</td>\n",
              "      <td>1358.0</td>\n",
              "      <td>1357.0</td>\n",
              "      <td>1357.00%</td>\n",
              "    </tr>\n",
              "  </tbody>\n",
              "</table>\n",
              "</div>\n",
              "      <button class=\"colab-df-convert\" onclick=\"convertToInteractive('df-f22d076a-66e1-42e1-80a6-289957abf9ad')\"\n",
              "              title=\"Convert this dataframe to an interactive table.\"\n",
              "              style=\"display:none;\">\n",
              "        \n",
              "  <svg xmlns=\"http://www.w3.org/2000/svg\" height=\"24px\"viewBox=\"0 0 24 24\"\n",
              "       width=\"24px\">\n",
              "    <path d=\"M0 0h24v24H0V0z\" fill=\"none\"/>\n",
              "    <path d=\"M18.56 5.44l.94 2.06.94-2.06 2.06-.94-2.06-.94-.94-2.06-.94 2.06-2.06.94zm-11 1L8.5 8.5l.94-2.06 2.06-.94-2.06-.94L8.5 2.5l-.94 2.06-2.06.94zm10 10l.94 2.06.94-2.06 2.06-.94-2.06-.94-.94-2.06-.94 2.06-2.06.94z\"/><path d=\"M17.41 7.96l-1.37-1.37c-.4-.4-.92-.59-1.43-.59-.52 0-1.04.2-1.43.59L10.3 9.45l-7.72 7.72c-.78.78-.78 2.05 0 2.83L4 21.41c.39.39.9.59 1.41.59.51 0 1.02-.2 1.41-.59l7.78-7.78 2.81-2.81c.8-.78.8-2.07 0-2.86zM5.41 20L4 18.59l7.72-7.72 1.47 1.35L5.41 20z\"/>\n",
              "  </svg>\n",
              "      </button>\n",
              "      \n",
              "  <style>\n",
              "    .colab-df-container {\n",
              "      display:flex;\n",
              "      flex-wrap:wrap;\n",
              "      gap: 12px;\n",
              "    }\n",
              "\n",
              "    .colab-df-convert {\n",
              "      background-color: #E8F0FE;\n",
              "      border: none;\n",
              "      border-radius: 50%;\n",
              "      cursor: pointer;\n",
              "      display: none;\n",
              "      fill: #1967D2;\n",
              "      height: 32px;\n",
              "      padding: 0 0 0 0;\n",
              "      width: 32px;\n",
              "    }\n",
              "\n",
              "    .colab-df-convert:hover {\n",
              "      background-color: #E2EBFA;\n",
              "      box-shadow: 0px 1px 2px rgba(60, 64, 67, 0.3), 0px 1px 3px 1px rgba(60, 64, 67, 0.15);\n",
              "      fill: #174EA6;\n",
              "    }\n",
              "\n",
              "    [theme=dark] .colab-df-convert {\n",
              "      background-color: #3B4455;\n",
              "      fill: #D2E3FC;\n",
              "    }\n",
              "\n",
              "    [theme=dark] .colab-df-convert:hover {\n",
              "      background-color: #434B5C;\n",
              "      box-shadow: 0px 1px 3px 1px rgba(0, 0, 0, 0.15);\n",
              "      filter: drop-shadow(0px 1px 2px rgba(0, 0, 0, 0.3));\n",
              "      fill: #FFFFFF;\n",
              "    }\n",
              "  </style>\n",
              "\n",
              "      <script>\n",
              "        const buttonEl =\n",
              "          document.querySelector('#df-f22d076a-66e1-42e1-80a6-289957abf9ad button.colab-df-convert');\n",
              "        buttonEl.style.display =\n",
              "          google.colab.kernel.accessAllowed ? 'block' : 'none';\n",
              "\n",
              "        async function convertToInteractive(key) {\n",
              "          const element = document.querySelector('#df-f22d076a-66e1-42e1-80a6-289957abf9ad');\n",
              "          const dataTable =\n",
              "            await google.colab.kernel.invokeFunction('convertToInteractive',\n",
              "                                                     [key], {});\n",
              "          if (!dataTable) return;\n",
              "\n",
              "          const docLinkHtml = 'Like what you see? Visit the ' +\n",
              "            '<a target=\"_blank\" href=https://colab.research.google.com/notebooks/data_table.ipynb>data table notebook</a>'\n",
              "            + ' to learn more about interactive tables.';\n",
              "          element.innerHTML = '';\n",
              "          dataTable['output_type'] = 'display_data';\n",
              "          await google.colab.output.renderOutput(dataTable, element);\n",
              "          const docLink = document.createElement('div');\n",
              "          docLink.innerHTML = docLinkHtml;\n",
              "          element.appendChild(docLink);\n",
              "        }\n",
              "      </script>\n",
              "    </div>\n",
              "  </div>\n",
              "  "
            ]
          },
          "metadata": {},
          "execution_count": 9
        }
      ]
    },
    {
      "cell_type": "markdown",
      "source": [
        "# What time of day do different crimes tend to occur?\n",
        "\n",
        "A strong argument for the addage \"nothing good happens after 1 AM\""
      ],
      "metadata": {
        "id": "MVUZ3x28dp-o"
      }
    },
    {
      "cell_type": "code",
      "source": [
        "dfPivot2"
      ],
      "metadata": {
        "id": "UTaCmeXFdrOE"
      },
      "execution_count": null,
      "outputs": []
    },
    {
      "cell_type": "markdown",
      "source": [
        "# What day of the week do different crimes occur?\n",
        "\n",
        "I doubt that Pheonix cops agree with \"thank goodness it's Friday!\""
      ],
      "metadata": {
        "id": "FFAl68M2dr0N"
      }
    },
    {
      "cell_type": "code",
      "source": [
        "dfPivot3"
      ],
      "metadata": {
        "id": "-0ZCW5eOdsFM"
      },
      "execution_count": null,
      "outputs": []
    },
    {
      "cell_type": "markdown",
      "source": [
        "# Where do different types of crimes tend to occur?\n",
        "\n",
        "If you are a car that does not want to be stolen, try not to be parked at an apartment!"
      ],
      "metadata": {
        "id": "VIFoGHBidsZY"
      }
    },
    {
      "cell_type": "code",
      "source": [
        "dfPivot4"
      ],
      "metadata": {
        "id": "4s1gKSC2dsoj"
      },
      "execution_count": null,
      "outputs": []
    },
    {
      "cell_type": "markdown",
      "source": [
        "# Where do Violent and NonViolent crimes occur?\n",
        "\n",
        "Based on proportion and total count of violent crimes, it's probably best to stay off the sidewalks and streets. "
      ],
      "metadata": {
        "id": "fDMfecoVds46"
      }
    },
    {
      "cell_type": "code",
      "source": [
        "dfPivot5"
      ],
      "metadata": {
        "colab": {
          "base_uri": "https://localhost:8080/",
          "height": 652
        },
        "id": "MN0itjgwdtQo",
        "outputId": "dcce78ef-d5cf-4f0b-9d0b-dae732d3403d"
      },
      "execution_count": 30,
      "outputs": [
        {
          "output_type": "execute_result",
          "data": {
            "text/plain": [
              "Violent or Non                 Non-Violent  Violent Percent Violent\n",
              "PREMISE TYPE                                                       \n",
              "ABANDONED/CONDEMNED STRUCTURE           15        3           0.17%\n",
              "ADULT ONLY STORE / MOVIE                16        6           0.27%\n",
              "AIRPORT                                282        6           0.02%\n",
              "ALLEY                                  220      104           0.32%\n",
              "AMUSEMENT PARK                          11        5           0.31%\n",
              "...                                    ...      ...             ...\n",
              "TRAIN STATION                            6        1           0.14%\n",
              "TRIBAL LANDS                             0        1           1.00%\n",
              "UNKNOWN                                234       87           0.27%\n",
              "VEHICLE                               2092      257           0.11%\n",
              "WAREHOUSE / FACTORY                    230       11           0.05%\n",
              "\n",
              "[94 rows x 3 columns]"
            ],
            "text/html": [
              "\n",
              "  <div id=\"df-32439c23-769a-40f1-978d-cde99f4f3a19\">\n",
              "    <div class=\"colab-df-container\">\n",
              "      <div>\n",
              "<style scoped>\n",
              "    .dataframe tbody tr th:only-of-type {\n",
              "        vertical-align: middle;\n",
              "    }\n",
              "\n",
              "    .dataframe tbody tr th {\n",
              "        vertical-align: top;\n",
              "    }\n",
              "\n",
              "    .dataframe thead th {\n",
              "        text-align: right;\n",
              "    }\n",
              "</style>\n",
              "<table border=\"1\" class=\"dataframe\">\n",
              "  <thead>\n",
              "    <tr style=\"text-align: right;\">\n",
              "      <th>Violent or Non</th>\n",
              "      <th>Non-Violent</th>\n",
              "      <th>Violent</th>\n",
              "      <th>Percent Violent</th>\n",
              "    </tr>\n",
              "    <tr>\n",
              "      <th>PREMISE TYPE</th>\n",
              "      <th></th>\n",
              "      <th></th>\n",
              "      <th></th>\n",
              "    </tr>\n",
              "  </thead>\n",
              "  <tbody>\n",
              "    <tr>\n",
              "      <th>ABANDONED/CONDEMNED STRUCTURE</th>\n",
              "      <td>15</td>\n",
              "      <td>3</td>\n",
              "      <td>0.17%</td>\n",
              "    </tr>\n",
              "    <tr>\n",
              "      <th>ADULT ONLY STORE / MOVIE</th>\n",
              "      <td>16</td>\n",
              "      <td>6</td>\n",
              "      <td>0.27%</td>\n",
              "    </tr>\n",
              "    <tr>\n",
              "      <th>AIRPORT</th>\n",
              "      <td>282</td>\n",
              "      <td>6</td>\n",
              "      <td>0.02%</td>\n",
              "    </tr>\n",
              "    <tr>\n",
              "      <th>ALLEY</th>\n",
              "      <td>220</td>\n",
              "      <td>104</td>\n",
              "      <td>0.32%</td>\n",
              "    </tr>\n",
              "    <tr>\n",
              "      <th>AMUSEMENT PARK</th>\n",
              "      <td>11</td>\n",
              "      <td>5</td>\n",
              "      <td>0.31%</td>\n",
              "    </tr>\n",
              "    <tr>\n",
              "      <th>...</th>\n",
              "      <td>...</td>\n",
              "      <td>...</td>\n",
              "      <td>...</td>\n",
              "    </tr>\n",
              "    <tr>\n",
              "      <th>TRAIN STATION</th>\n",
              "      <td>6</td>\n",
              "      <td>1</td>\n",
              "      <td>0.14%</td>\n",
              "    </tr>\n",
              "    <tr>\n",
              "      <th>TRIBAL LANDS</th>\n",
              "      <td>0</td>\n",
              "      <td>1</td>\n",
              "      <td>1.00%</td>\n",
              "    </tr>\n",
              "    <tr>\n",
              "      <th>UNKNOWN</th>\n",
              "      <td>234</td>\n",
              "      <td>87</td>\n",
              "      <td>0.27%</td>\n",
              "    </tr>\n",
              "    <tr>\n",
              "      <th>VEHICLE</th>\n",
              "      <td>2092</td>\n",
              "      <td>257</td>\n",
              "      <td>0.11%</td>\n",
              "    </tr>\n",
              "    <tr>\n",
              "      <th>WAREHOUSE / FACTORY</th>\n",
              "      <td>230</td>\n",
              "      <td>11</td>\n",
              "      <td>0.05%</td>\n",
              "    </tr>\n",
              "  </tbody>\n",
              "</table>\n",
              "<p>94 rows × 3 columns</p>\n",
              "</div>\n",
              "      <button class=\"colab-df-convert\" onclick=\"convertToInteractive('df-32439c23-769a-40f1-978d-cde99f4f3a19')\"\n",
              "              title=\"Convert this dataframe to an interactive table.\"\n",
              "              style=\"display:none;\">\n",
              "        \n",
              "  <svg xmlns=\"http://www.w3.org/2000/svg\" height=\"24px\"viewBox=\"0 0 24 24\"\n",
              "       width=\"24px\">\n",
              "    <path d=\"M0 0h24v24H0V0z\" fill=\"none\"/>\n",
              "    <path d=\"M18.56 5.44l.94 2.06.94-2.06 2.06-.94-2.06-.94-.94-2.06-.94 2.06-2.06.94zm-11 1L8.5 8.5l.94-2.06 2.06-.94-2.06-.94L8.5 2.5l-.94 2.06-2.06.94zm10 10l.94 2.06.94-2.06 2.06-.94-2.06-.94-.94-2.06-.94 2.06-2.06.94z\"/><path d=\"M17.41 7.96l-1.37-1.37c-.4-.4-.92-.59-1.43-.59-.52 0-1.04.2-1.43.59L10.3 9.45l-7.72 7.72c-.78.78-.78 2.05 0 2.83L4 21.41c.39.39.9.59 1.41.59.51 0 1.02-.2 1.41-.59l7.78-7.78 2.81-2.81c.8-.78.8-2.07 0-2.86zM5.41 20L4 18.59l7.72-7.72 1.47 1.35L5.41 20z\"/>\n",
              "  </svg>\n",
              "      </button>\n",
              "      \n",
              "  <style>\n",
              "    .colab-df-container {\n",
              "      display:flex;\n",
              "      flex-wrap:wrap;\n",
              "      gap: 12px;\n",
              "    }\n",
              "\n",
              "    .colab-df-convert {\n",
              "      background-color: #E8F0FE;\n",
              "      border: none;\n",
              "      border-radius: 50%;\n",
              "      cursor: pointer;\n",
              "      display: none;\n",
              "      fill: #1967D2;\n",
              "      height: 32px;\n",
              "      padding: 0 0 0 0;\n",
              "      width: 32px;\n",
              "    }\n",
              "\n",
              "    .colab-df-convert:hover {\n",
              "      background-color: #E2EBFA;\n",
              "      box-shadow: 0px 1px 2px rgba(60, 64, 67, 0.3), 0px 1px 3px 1px rgba(60, 64, 67, 0.15);\n",
              "      fill: #174EA6;\n",
              "    }\n",
              "\n",
              "    [theme=dark] .colab-df-convert {\n",
              "      background-color: #3B4455;\n",
              "      fill: #D2E3FC;\n",
              "    }\n",
              "\n",
              "    [theme=dark] .colab-df-convert:hover {\n",
              "      background-color: #434B5C;\n",
              "      box-shadow: 0px 1px 3px 1px rgba(0, 0, 0, 0.15);\n",
              "      filter: drop-shadow(0px 1px 2px rgba(0, 0, 0, 0.3));\n",
              "      fill: #FFFFFF;\n",
              "    }\n",
              "  </style>\n",
              "\n",
              "      <script>\n",
              "        const buttonEl =\n",
              "          document.querySelector('#df-32439c23-769a-40f1-978d-cde99f4f3a19 button.colab-df-convert');\n",
              "        buttonEl.style.display =\n",
              "          google.colab.kernel.accessAllowed ? 'block' : 'none';\n",
              "\n",
              "        async function convertToInteractive(key) {\n",
              "          const element = document.querySelector('#df-32439c23-769a-40f1-978d-cde99f4f3a19');\n",
              "          const dataTable =\n",
              "            await google.colab.kernel.invokeFunction('convertToInteractive',\n",
              "                                                     [key], {});\n",
              "          if (!dataTable) return;\n",
              "\n",
              "          const docLinkHtml = 'Like what you see? Visit the ' +\n",
              "            '<a target=\"_blank\" href=https://colab.research.google.com/notebooks/data_table.ipynb>data table notebook</a>'\n",
              "            + ' to learn more about interactive tables.';\n",
              "          element.innerHTML = '';\n",
              "          dataTable['output_type'] = 'display_data';\n",
              "          await google.colab.output.renderOutput(dataTable, element);\n",
              "          const docLink = document.createElement('div');\n",
              "          docLink.innerHTML = docLinkHtml;\n",
              "          element.appendChild(docLink);\n",
              "        }\n",
              "      </script>\n",
              "    </div>\n",
              "  </div>\n",
              "  "
            ]
          },
          "metadata": {},
          "execution_count": 30
        }
      ]
    }
  ]
}